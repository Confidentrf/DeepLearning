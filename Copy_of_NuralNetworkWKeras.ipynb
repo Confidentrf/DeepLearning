{
  "nbformat": 4,
  "nbformat_minor": 0,
  "metadata": {
    "colab": {
      "provenance": [],
      "authorship_tag": "ABX9TyO/Q6Yiq7LhTqBWIkwP/1mR",
      "include_colab_link": true
    },
    "kernelspec": {
      "name": "python3",
      "display_name": "Python 3"
    },
    "language_info": {
      "name": "python"
    }
  },
  "cells": [
    {
      "cell_type": "markdown",
      "metadata": {
        "id": "view-in-github",
        "colab_type": "text"
      },
      "source": [
        "<a href=\"https://colab.research.google.com/github/Confidentrf/DeepLearning/blob/modules/Copy_of_NuralNetworkWKeras.ipynb\" target=\"_parent\"><img src=\"https://colab.research.google.com/assets/colab-badge.svg\" alt=\"Open In Colab\"/></a>"
      ]
    },
    {
      "cell_type": "code",
      "execution_count": null,
      "metadata": {
        "id": "NnBR9rU8_ytC"
      },
      "outputs": [],
      "source": [
        "from keras.models import Sequential\n",
        "from keras.layers import Dense, Activation\n",
        "import numpy as np\n",
        "import pandas as pd\n",
        "from sklearn.model_selection import train_test_split\n",
        "from tensorflow import random"
      ]
    },
    {
      "cell_type": "code",
      "source": [
        "# import required packages for plotting\n",
        "import matplotlib.pyplot as plt\n",
        "import matplotlib\n",
        "%matplotlib inline\n",
        "import matplotlib.patches as mpatches\n",
        "# import the function for plotting decision boundary\n",
        "from utils import plot_decision_boundary\n",
        "\n",
        "# define a seed for random number generator so the result will be reproducible\n",
        "seed = 1\n",
        "np.random.seed(seed)\n",
        "random.set_seed(seed)"
      ],
      "metadata": {
        "id": "F7k-LHvc_2Z4"
      },
      "execution_count": null,
      "outputs": []
    },
    {
      "cell_type": "code",
      "source": [
        "# load the dataset, print the shapes of input and output and the number of examples\n",
        "feats = pd.read_csv('../data/outlier_feats.csv')\n",
        "target = pd.read_csv('../data/outlier_target.csv')\n",
        "print(\"X size = \", feats.shape)\n",
        "print(\"Y size = \", target.shape)\n",
        "print(\"Number of examples = \", feats.shape[0])"
      ],
      "metadata": {
        "id": "wRO_x3eP_37T"
      },
      "execution_count": null,
      "outputs": []
    },
    {
      "cell_type": "code",
      "source": [
        "# changing the size of the plots\n",
        "matplotlib.rcParams['figure.figsize'] = (10.0, 8.0)\n",
        "\n",
        "class_1=plt.scatter(feats.loc[target['Class']==0,'feature1'], feats.loc[target['Class']==0,'feature2'], c=\"red\", s=40, edgecolor='k')\n",
        "class_2=plt.scatter(feats.loc[target['Class']==1,'feature1'], feats.loc[target['Class']==1,'feature2'], c=\"blue\", s=40, edgecolor='k')\n",
        "plt.legend((class_1, class_2),('Fail','Pass'))\n",
        "plt.xlabel('Feature 1')\n",
        "plt.ylabel('Feature 2')"
      ],
      "metadata": {
        "id": "4j-Iql0q_6SD"
      },
      "execution_count": null,
      "outputs": []
    },
    {
      "cell_type": "code",
      "source": [
        "# Logistic Regression model\n",
        "np.random.seed(seed)\n",
        "random.set_seed(seed)\n",
        "model_1 = Sequential()\n",
        "model_1.add(Dense(1, activation='sigmoid', input_dim=2))\n",
        "model_1.compile(optimizer='sgd', loss='binary_crossentropy')\n",
        "\n",
        "# train the model for 100 epoches and batch size 5\n",
        "model_1.fit(feats, target, batch_size=5, epochs=100, verbose=1, validation_split=0.2, shuffle=False)"
      ],
      "metadata": {
        "id": "Rmg5Bbln_7vd"
      },
      "execution_count": null,
      "outputs": []
    },
    {
      "cell_type": "code",
      "source": [
        "matplotlib.rcParams['figure.figsize'] = (10.0, 8.0)\n",
        "plot_decision_boundary(lambda x: model_1.predict(x), feats, target)\n",
        "plt.title(\"Logistic Regression\")"
      ],
      "metadata": {
        "id": "-UGNn-7A_9jc"
      },
      "execution_count": null,
      "outputs": []
    },
    {
      "cell_type": "code",
      "source": [
        "# Neural network with hidden layer size = 3\n",
        "np.random.seed(seed)\n",
        "random.set_seed(seed)\n",
        "model_2 = Sequential()\n",
        "model_2.add(Dense(3, activation='relu', input_dim=2))\n",
        "model_2.add(Dense(1, activation='sigmoid'))\n",
        "model_2.compile(optimizer='sgd', loss='binary_crossentropy')\n",
        "# train the model for 200 epoches and batch size 5\n",
        "model_2.fit(feats, target, batch_size=5, epochs=200, verbose=1, validation_split=0.2, shuffle=False)"
      ],
      "metadata": {
        "id": "QMQ_jPU_AA57"
      },
      "execution_count": null,
      "outputs": []
    },
    {
      "cell_type": "code",
      "source": [
        "matplotlib.rcParams['figure.figsize'] = (10.0, 8.0)\n",
        "plot_decision_boundary(lambda x: model_2.predict(x), feats, target)\n",
        "plt.title(\"Decision Boundary for Neural Network with hidden layer size 3\")"
      ],
      "metadata": {
        "id": "KwI6naeSABhz"
      },
      "execution_count": null,
      "outputs": []
    },
    {
      "cell_type": "code",
      "source": [
        "np.random.seed(seed)\n",
        "random.set_seed(seed)\n",
        "model_3 = Sequential()\n",
        "model_3.add(Dense(6, activation='relu', input_dim=2))\n",
        "model_3.add(Dense(1, activation='sigmoid'))\n",
        "model_3.compile(optimizer='sgd', loss='binary_crossentropy')\n",
        "# train the model for 400 epoches\n",
        "model_3.fit(feats, target, batch_size=5, epochs=400, verbose=1, validation_split=0.2, shuffle=False)"
      ],
      "metadata": {
        "id": "h_3n-464AEkG"
      },
      "execution_count": null,
      "outputs": []
    },
    {
      "cell_type": "code",
      "source": [
        "matplotlib.rcParams['figure.figsize'] = (10.0, 8.0)\n",
        "plot_decision_boundary(lambda x: model_3.predict(x), feats, target)\n",
        "plt.title(\"Decision Boundary for Neural Network with hidden layer size 6\")"
      ],
      "metadata": {
        "id": "DOFoSjsQAGkF"
      },
      "execution_count": null,
      "outputs": []
    },
    {
      "cell_type": "code",
      "source": [
        "# Neural network with hidden layer size = 3 with tanh activation function\n",
        "np.random.seed(seed)\n",
        "random.set_seed(seed)\n",
        "model_4 = Sequential()\n",
        "model_4.add(Dense(3, activation='tanh', input_dim=2))\n",
        "model_4.add(Dense(1, activation='sigmoid'))\n",
        "model_4.compile(optimizer='sgd', loss='binary_crossentropy')\n",
        "# train the model for 200 epoches and batch size 5\n",
        "model_4.fit(feats, target, batch_size=5, epochs=200, verbose=1, validation_split=0.2, shuffle=False)"
      ],
      "metadata": {
        "id": "9HDZQfzHAKG-"
      },
      "execution_count": null,
      "outputs": []
    },
    {
      "cell_type": "code",
      "source": [
        "matplotlib.rcParams['figure.figsize'] = (10.0, 8.0)\n",
        "plot_decision_boundary(lambda x: model_4.predict(x), feats, target)\n",
        "plt.title(\"Decision Boundary for Neural Network with hidden layer size 3\")"
      ],
      "metadata": {
        "id": "OkxroC7aAL5E"
      },
      "execution_count": null,
      "outputs": []
    },
    {
      "cell_type": "code",
      "source": [
        "np.random.seed(seed)\n",
        "random.set_seed(seed)\n",
        "model_5 = Sequential()\n",
        "model_5.add(Dense(6, activation='tanh', input_dim=2))\n",
        "model_5.add(Dense(1, activation='sigmoid'))\n",
        "model_5.compile(optimizer='sgd', loss='binary_crossentropy')\n",
        "# train the model for 400 epoches\n",
        "model_5.fit(feats, target, batch_size=5, epochs=400, verbose=1, validation_split=0.2, shuffle=False)"
      ],
      "metadata": {
        "id": "NTHKGIinAOZ0"
      },
      "execution_count": null,
      "outputs": []
    },
    {
      "cell_type": "code",
      "source": [
        "matplotlib.rcParams['figure.figsize'] = (10.0, 8.0)\n",
        "plot_decision_boundary(lambda x: model_5.predict(x), feats, target)\n",
        "plt.title(\"Decision Boundary for Neural Network with hidden layer size 6\")"
      ],
      "metadata": {
        "id": "qCf6Ek7sAQE2"
      },
      "execution_count": null,
      "outputs": []
    },
    {
      "cell_type": "code",
      "source": [],
      "metadata": {
        "id": "XpUh_H0lAThi"
      },
      "execution_count": null,
      "outputs": []
    }
  ]
}