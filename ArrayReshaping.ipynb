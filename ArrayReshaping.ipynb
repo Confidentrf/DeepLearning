{
  "nbformat": 4,
  "nbformat_minor": 0,
  "metadata": {
    "colab": {
      "provenance": [],
      "authorship_tag": "ABX9TyNLcZCo78No1pPGfQiSMkNL",
      "include_colab_link": true
    },
    "kernelspec": {
      "name": "python3",
      "display_name": "Python 3"
    },
    "language_info": {
      "name": "python"
    }
  },
  "cells": [
    {
      "cell_type": "markdown",
      "metadata": {
        "id": "view-in-github",
        "colab_type": "text"
      },
      "source": [
        "<a href=\"https://colab.research.google.com/github/Confidentrf/DeepLearning/blob/modules/ArrayReshaping.ipynb\" target=\"_parent\"><img src=\"https://colab.research.google.com/assets/colab-badge.svg\" alt=\"Open In Colab\"/></a>"
      ]
    },
    {
      "cell_type": "code",
      "execution_count": null,
      "metadata": {
        "id": "qd8ckGDgdjq1"
      },
      "outputs": [],
      "source": [
        " import numpy as np\n",
        "mat1 = np.array([[1, 2, 3], [4, 5, 6], [7, 8, 9], [10, 11, 12]])\n",
        "mat1"
      ]
    },
    {
      "cell_type": "code",
      "source": [
        "mat1.shape"
      ],
      "metadata": {
        "id": "YXLyGTE1fYQH"
      },
      "execution_count": null,
      "outputs": []
    },
    {
      "cell_type": "code",
      "source": [
        "mat2 = np.reshape(mat1, [3,4])\n",
        "mat2"
      ],
      "metadata": {
        "id": "6T71jYv2famF"
      },
      "execution_count": null,
      "outputs": []
    },
    {
      "cell_type": "code",
      "source": [
        "mat2.shape"
      ],
      "metadata": {
        "id": "6PxPOcgIfb6B"
      },
      "execution_count": null,
      "outputs": []
    },
    {
      "cell_type": "code",
      "source": [
        "mat3 = np.reshape(mat1, [3,2,2])\n",
        "mat3"
      ],
      "metadata": {
        "id": "Xk4Cf4OlfdKF"
      },
      "execution_count": null,
      "outputs": []
    },
    {
      "cell_type": "code",
      "source": [
        "mat3.shape"
      ],
      "metadata": {
        "id": "N1SBQZ8Gfef1"
      },
      "execution_count": null,
      "outputs": []
    },
    {
      "cell_type": "code",
      "source": [
        "mat4 = np.reshape(mat1, [12])\n",
        "mat4"
      ],
      "metadata": {
        "id": "jqlZW8fzffyk"
      },
      "execution_count": null,
      "outputs": []
    },
    {
      "cell_type": "code",
      "source": [
        "mat4.shape"
      ],
      "metadata": {
        "id": "yiAFeiIIfhRs"
      },
      "execution_count": null,
      "outputs": []
    },
    {
      "cell_type": "code",
      "source": [
        "mat = np.matrix([[1, 2, 3], [4, 5, 6], [7, 8, 9], [10, 11, 12]])\n",
        "mat"
      ],
      "metadata": {
        "id": "RAPw3t0jfjfF"
      },
      "execution_count": null,
      "outputs": []
    },
    {
      "cell_type": "code",
      "source": [
        "mat.T"
      ],
      "metadata": {
        "id": "AOWJ04NFfj40"
      },
      "execution_count": null,
      "outputs": []
    },
    {
      "cell_type": "code",
      "source": [
        "mat.shape"
      ],
      "metadata": {
        "id": "xNBtW1PCflEx"
      },
      "execution_count": null,
      "outputs": []
    },
    {
      "cell_type": "code",
      "source": [
        "mat.T.shape"
      ],
      "metadata": {
        "id": "jV-l-bnCfmbc"
      },
      "execution_count": null,
      "outputs": []
    },
    {
      "cell_type": "code",
      "source": [
        "np.reshape(mat1, [3,4]) == mat1.T"
      ],
      "metadata": {
        "id": "0QRXiJqOfncj"
      },
      "execution_count": null,
      "outputs": []
    }
  ]
}