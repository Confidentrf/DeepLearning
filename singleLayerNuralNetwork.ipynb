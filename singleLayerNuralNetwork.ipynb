{
  "nbformat": 4,
  "nbformat_minor": 0,
  "metadata": {
    "colab": {
      "provenance": [],
      "gpuType": "T4",
      "authorship_tag": "ABX9TyNDVzCv0ZPfBkI7mtSrHZ6D",
      "include_colab_link": true
    },
    "kernelspec": {
      "name": "python3",
      "display_name": "Python 3"
    },
    "language_info": {
      "name": "python"
    },
    "accelerator": "GPU"
  },
  "cells": [
    {
      "cell_type": "markdown",
      "metadata": {
        "id": "view-in-github",
        "colab_type": "text"
      },
      "source": [
        "<a href=\"https://colab.research.google.com/github/Confidentrf/DeepLearning/blob/modules/singleLayerNuralNetwork.ipynb\" target=\"_parent\"><img src=\"https://colab.research.google.com/assets/colab-badge.svg\" alt=\"Open In Colab\"/></a>"
      ]
    },
    {
      "cell_type": "code",
      "execution_count": 1,
      "metadata": {
        "colab": {
          "base_uri": "https://localhost:8080/"
        },
        "id": "5AufUO9Vojlz",
        "outputId": "9a9e3e36-6971-4bd9-cdc7-75e204f47243"
      },
      "outputs": [
        {
          "output_type": "stream",
          "name": "stdout",
          "text": [
            "Number of Examples in the Dataset =  10000\n",
            "Number of Features for each example =  10\n",
            "Possible Output Classes =  [0 1]\n"
          ]
        }
      ],
      "source": [
        "import numpy as np\n",
        "import pandas as pd\n",
        "X = pd.read_csv('tree_class_feats.csv')\n",
        "y = pd.read_csv('tree_class_target.csv')\n",
        "\n",
        "# Print the sizes of the dataset\n",
        "print(\"Number of Examples in the Dataset = \", X.shape[0])\n",
        "print(\"Number of Features for each example = \", X.shape[1])\n",
        "print(\"Possible Output Classes = \", np.unique(y))"
      ]
    },
    {
      "cell_type": "code",
      "source": [
        "# Define your model as a Keras sequential model\n",
        "from keras.models import Sequential\n",
        "from tensorflow import random\n",
        "random.set_seed(42)\n",
        "np.random.seed(42)\n",
        "model = Sequential()"
      ],
      "metadata": {
        "id": "HSfBl3p5pxiC"
      },
      "execution_count": 2,
      "outputs": []
    },
    {
      "cell_type": "code",
      "source": [
        "# Add one hidden layer of size 10 with activation function of type tanh to your model\n",
        "from keras.layers import Dense, Activation\n",
        "model.add(Dense(10, activation='tanh', input_dim=X.shape[1]))"
      ],
      "metadata": {
        "colab": {
          "base_uri": "https://localhost:8080/"
        },
        "id": "EevmsmO7pzHJ",
        "outputId": "033d7430-eaa6-44d8-e9bb-6c886fe16e78"
      },
      "execution_count": 3,
      "outputs": [
        {
          "output_type": "stream",
          "name": "stderr",
          "text": [
            "/usr/local/lib/python3.10/dist-packages/keras/src/layers/core/dense.py:87: UserWarning: Do not pass an `input_shape`/`input_dim` argument to a layer. When using Sequential models, prefer using an `Input(shape)` object as the first layer in the model instead.\n",
            "  super().__init__(activity_regularizer=activity_regularizer, **kwargs)\n"
          ]
        }
      ]
    },
    {
      "cell_type": "code",
      "source": [
        "# Add another hidden layer, this time of size 5, with activation function of type tanh\n",
        "model.add(Dense(5, activation='tanh'))"
      ],
      "metadata": {
        "id": "43HGAzF3p0iI"
      },
      "execution_count": 4,
      "outputs": []
    },
    {
      "cell_type": "code",
      "source": [
        "# Add the output layer with sigmoid activation function\n",
        "model.add(Dense(1, activation='sigmoid'))"
      ],
      "metadata": {
        "id": "1o6Wc4jjp2R6"
      },
      "execution_count": 5,
      "outputs": []
    },
    {
      "cell_type": "code",
      "source": [
        "# Choose the loss function to be binary cross entropy and the optimizer to be SGD for training the model\n",
        "model.compile(optimizer='sgd', loss='binary_crossentropy', metrics=['accuracy'])\n",
        "model.summary()"
      ],
      "metadata": {
        "colab": {
          "base_uri": "https://localhost:8080/",
          "height": 238
        },
        "id": "VN4I-Isrp4DN",
        "outputId": "38ce441b-c62b-4e23-8c26-f42307cd8623"
      },
      "execution_count": 6,
      "outputs": [
        {
          "output_type": "display_data",
          "data": {
            "text/plain": [
              "\u001b[1mModel: \"sequential\"\u001b[0m\n"
            ],
            "text/html": [
              "<pre style=\"white-space:pre;overflow-x:auto;line-height:normal;font-family:Menlo,'DejaVu Sans Mono',consolas,'Courier New',monospace\"><span style=\"font-weight: bold\">Model: \"sequential\"</span>\n",
              "</pre>\n"
            ]
          },
          "metadata": {}
        },
        {
          "output_type": "display_data",
          "data": {
            "text/plain": [
              "┏━━━━━━━━━━━━━━━━━━━━━━━━━━━━━━━━━━━━━━┳━━━━━━━━━━━━━━━━━━━━━━━━━━━━━┳━━━━━━━━━━━━━━━━━┓\n",
              "┃\u001b[1m \u001b[0m\u001b[1mLayer (type)                        \u001b[0m\u001b[1m \u001b[0m┃\u001b[1m \u001b[0m\u001b[1mOutput Shape               \u001b[0m\u001b[1m \u001b[0m┃\u001b[1m \u001b[0m\u001b[1m        Param #\u001b[0m\u001b[1m \u001b[0m┃\n",
              "┡━━━━━━━━━━━━━━━━━━━━━━━━━━━━━━━━━━━━━━╇━━━━━━━━━━━━━━━━━━━━━━━━━━━━━╇━━━━━━━━━━━━━━━━━┩\n",
              "│ dense (\u001b[38;5;33mDense\u001b[0m)                        │ (\u001b[38;5;45mNone\u001b[0m, \u001b[38;5;34m10\u001b[0m)                  │             \u001b[38;5;34m110\u001b[0m │\n",
              "├──────────────────────────────────────┼─────────────────────────────┼─────────────────┤\n",
              "│ dense_1 (\u001b[38;5;33mDense\u001b[0m)                      │ (\u001b[38;5;45mNone\u001b[0m, \u001b[38;5;34m5\u001b[0m)                   │              \u001b[38;5;34m55\u001b[0m │\n",
              "├──────────────────────────────────────┼─────────────────────────────┼─────────────────┤\n",
              "│ dense_2 (\u001b[38;5;33mDense\u001b[0m)                      │ (\u001b[38;5;45mNone\u001b[0m, \u001b[38;5;34m1\u001b[0m)                   │               \u001b[38;5;34m6\u001b[0m │\n",
              "└──────────────────────────────────────┴─────────────────────────────┴─────────────────┘\n"
            ],
            "text/html": [
              "<pre style=\"white-space:pre;overflow-x:auto;line-height:normal;font-family:Menlo,'DejaVu Sans Mono',consolas,'Courier New',monospace\">┏━━━━━━━━━━━━━━━━━━━━━━━━━━━━━━━━━━━━━━┳━━━━━━━━━━━━━━━━━━━━━━━━━━━━━┳━━━━━━━━━━━━━━━━━┓\n",
              "┃<span style=\"font-weight: bold\"> Layer (type)                         </span>┃<span style=\"font-weight: bold\"> Output Shape                </span>┃<span style=\"font-weight: bold\">         Param # </span>┃\n",
              "┡━━━━━━━━━━━━━━━━━━━━━━━━━━━━━━━━━━━━━━╇━━━━━━━━━━━━━━━━━━━━━━━━━━━━━╇━━━━━━━━━━━━━━━━━┩\n",
              "│ dense (<span style=\"color: #0087ff; text-decoration-color: #0087ff\">Dense</span>)                        │ (<span style=\"color: #00d7ff; text-decoration-color: #00d7ff\">None</span>, <span style=\"color: #00af00; text-decoration-color: #00af00\">10</span>)                  │             <span style=\"color: #00af00; text-decoration-color: #00af00\">110</span> │\n",
              "├──────────────────────────────────────┼─────────────────────────────┼─────────────────┤\n",
              "│ dense_1 (<span style=\"color: #0087ff; text-decoration-color: #0087ff\">Dense</span>)                      │ (<span style=\"color: #00d7ff; text-decoration-color: #00d7ff\">None</span>, <span style=\"color: #00af00; text-decoration-color: #00af00\">5</span>)                   │              <span style=\"color: #00af00; text-decoration-color: #00af00\">55</span> │\n",
              "├──────────────────────────────────────┼─────────────────────────────┼─────────────────┤\n",
              "│ dense_2 (<span style=\"color: #0087ff; text-decoration-color: #0087ff\">Dense</span>)                      │ (<span style=\"color: #00d7ff; text-decoration-color: #00d7ff\">None</span>, <span style=\"color: #00af00; text-decoration-color: #00af00\">1</span>)                   │               <span style=\"color: #00af00; text-decoration-color: #00af00\">6</span> │\n",
              "└──────────────────────────────────────┴─────────────────────────────┴─────────────────┘\n",
              "</pre>\n"
            ]
          },
          "metadata": {}
        },
        {
          "output_type": "display_data",
          "data": {
            "text/plain": [
              "\u001b[1m Total params: \u001b[0m\u001b[38;5;34m171\u001b[0m (684.00 B)\n"
            ],
            "text/html": [
              "<pre style=\"white-space:pre;overflow-x:auto;line-height:normal;font-family:Menlo,'DejaVu Sans Mono',consolas,'Courier New',monospace\"><span style=\"font-weight: bold\"> Total params: </span><span style=\"color: #00af00; text-decoration-color: #00af00\">171</span> (684.00 B)\n",
              "</pre>\n"
            ]
          },
          "metadata": {}
        },
        {
          "output_type": "display_data",
          "data": {
            "text/plain": [
              "\u001b[1m Trainable params: \u001b[0m\u001b[38;5;34m171\u001b[0m (684.00 B)\n"
            ],
            "text/html": [
              "<pre style=\"white-space:pre;overflow-x:auto;line-height:normal;font-family:Menlo,'DejaVu Sans Mono',consolas,'Courier New',monospace\"><span style=\"font-weight: bold\"> Trainable params: </span><span style=\"color: #00af00; text-decoration-color: #00af00\">171</span> (684.00 B)\n",
              "</pre>\n"
            ]
          },
          "metadata": {}
        },
        {
          "output_type": "display_data",
          "data": {
            "text/plain": [
              "\u001b[1m Non-trainable params: \u001b[0m\u001b[38;5;34m0\u001b[0m (0.00 B)\n"
            ],
            "text/html": [
              "<pre style=\"white-space:pre;overflow-x:auto;line-height:normal;font-family:Menlo,'DejaVu Sans Mono',consolas,'Courier New',monospace\"><span style=\"font-weight: bold\"> Non-trainable params: </span><span style=\"color: #00af00; text-decoration-color: #00af00\">0</span> (0.00 B)\n",
              "</pre>\n"
            ]
          },
          "metadata": {}
        }
      ]
    },
    {
      "cell_type": "code",
      "source": [
        "# Train your model for 100 epochs and batch size equal to 5\n",
        "history = model.fit(X, y, epochs=100, batch_size=5, verbose=1, validation_split=0.2, shuffle=False)"
      ],
      "metadata": {
        "colab": {
          "base_uri": "https://localhost:8080/"
        },
        "id": "DE9e9Xbxp5sg",
        "outputId": "f9448cfe-5c01-4e33-8bc6-b93646b2a59d"
      },
      "execution_count": 7,
      "outputs": [
        {
          "output_type": "stream",
          "name": "stdout",
          "text": [
            "Epoch 1/100\n",
            "\u001b[1m1600/1600\u001b[0m \u001b[32m━━━━━━━━━━━━━━━━━━━━\u001b[0m\u001b[37m\u001b[0m \u001b[1m5s\u001b[0m 2ms/step - accuracy: 0.8206 - loss: 0.4161 - val_accuracy: 0.8645 - val_loss: 0.3235\n",
            "Epoch 2/100\n",
            "\u001b[1m1600/1600\u001b[0m \u001b[32m━━━━━━━━━━━━━━━━━━━━\u001b[0m\u001b[37m\u001b[0m \u001b[1m4s\u001b[0m 2ms/step - accuracy: 0.8554 - loss: 0.3347 - val_accuracy: 0.8770 - val_loss: 0.2996\n",
            "Epoch 3/100\n",
            "\u001b[1m1600/1600\u001b[0m \u001b[32m━━━━━━━━━━━━━━━━━━━━\u001b[0m\u001b[37m\u001b[0m \u001b[1m4s\u001b[0m 3ms/step - accuracy: 0.8685 - loss: 0.3076 - val_accuracy: 0.8815 - val_loss: 0.2798\n",
            "Epoch 4/100\n",
            "\u001b[1m1600/1600\u001b[0m \u001b[32m━━━━━━━━━━━━━━━━━━━━\u001b[0m\u001b[37m\u001b[0m \u001b[1m4s\u001b[0m 2ms/step - accuracy: 0.8795 - loss: 0.2855 - val_accuracy: 0.8945 - val_loss: 0.2571\n",
            "Epoch 5/100\n",
            "\u001b[1m1600/1600\u001b[0m \u001b[32m━━━━━━━━━━━━━━━━━━━━\u001b[0m\u001b[37m\u001b[0m \u001b[1m3s\u001b[0m 2ms/step - accuracy: 0.8874 - loss: 0.2637 - val_accuracy: 0.9045 - val_loss: 0.2343\n",
            "Epoch 6/100\n",
            "\u001b[1m1600/1600\u001b[0m \u001b[32m━━━━━━━━━━━━━━━━━━━━\u001b[0m\u001b[37m\u001b[0m \u001b[1m6s\u001b[0m 2ms/step - accuracy: 0.8984 - loss: 0.2469 - val_accuracy: 0.9100 - val_loss: 0.2178\n",
            "Epoch 7/100\n",
            "\u001b[1m1600/1600\u001b[0m \u001b[32m━━━━━━━━━━━━━━━━━━━━\u001b[0m\u001b[37m\u001b[0m \u001b[1m4s\u001b[0m 2ms/step - accuracy: 0.9014 - loss: 0.2362 - val_accuracy: 0.9145 - val_loss: 0.2058\n",
            "Epoch 8/100\n",
            "\u001b[1m1600/1600\u001b[0m \u001b[32m━━━━━━━━━━━━━━━━━━━━\u001b[0m\u001b[37m\u001b[0m \u001b[1m3s\u001b[0m 2ms/step - accuracy: 0.9074 - loss: 0.2282 - val_accuracy: 0.9170 - val_loss: 0.1982\n",
            "Epoch 9/100\n",
            "\u001b[1m1600/1600\u001b[0m \u001b[32m━━━━━━━━━━━━━━━━━━━━\u001b[0m\u001b[37m\u001b[0m \u001b[1m3s\u001b[0m 2ms/step - accuracy: 0.9115 - loss: 0.2216 - val_accuracy: 0.9185 - val_loss: 0.1939\n",
            "Epoch 10/100\n",
            "\u001b[1m1600/1600\u001b[0m \u001b[32m━━━━━━━━━━━━━━━━━━━━\u001b[0m\u001b[37m\u001b[0m \u001b[1m4s\u001b[0m 2ms/step - accuracy: 0.9132 - loss: 0.2165 - val_accuracy: 0.9230 - val_loss: 0.1910\n",
            "Epoch 11/100\n",
            "\u001b[1m1600/1600\u001b[0m \u001b[32m━━━━━━━━━━━━━━━━━━━━\u001b[0m\u001b[37m\u001b[0m \u001b[1m3s\u001b[0m 2ms/step - accuracy: 0.9137 - loss: 0.2125 - val_accuracy: 0.9215 - val_loss: 0.1890\n",
            "Epoch 12/100\n",
            "\u001b[1m1600/1600\u001b[0m \u001b[32m━━━━━━━━━━━━━━━━━━━━\u001b[0m\u001b[37m\u001b[0m \u001b[1m5s\u001b[0m 2ms/step - accuracy: 0.9170 - loss: 0.2093 - val_accuracy: 0.9220 - val_loss: 0.1874\n",
            "Epoch 13/100\n",
            "\u001b[1m1600/1600\u001b[0m \u001b[32m━━━━━━━━━━━━━━━━━━━━\u001b[0m\u001b[37m\u001b[0m \u001b[1m6s\u001b[0m 2ms/step - accuracy: 0.9184 - loss: 0.2064 - val_accuracy: 0.9245 - val_loss: 0.1861\n",
            "Epoch 14/100\n",
            "\u001b[1m1600/1600\u001b[0m \u001b[32m━━━━━━━━━━━━━━━━━━━━\u001b[0m\u001b[37m\u001b[0m \u001b[1m3s\u001b[0m 2ms/step - accuracy: 0.9215 - loss: 0.2039 - val_accuracy: 0.9250 - val_loss: 0.1851\n",
            "Epoch 15/100\n",
            "\u001b[1m1600/1600\u001b[0m \u001b[32m━━━━━━━━━━━━━━━━━━━━\u001b[0m\u001b[37m\u001b[0m \u001b[1m5s\u001b[0m 2ms/step - accuracy: 0.9230 - loss: 0.2017 - val_accuracy: 0.9230 - val_loss: 0.1840\n",
            "Epoch 16/100\n",
            "\u001b[1m1600/1600\u001b[0m \u001b[32m━━━━━━━━━━━━━━━━━━━━\u001b[0m\u001b[37m\u001b[0m \u001b[1m5s\u001b[0m 2ms/step - accuracy: 0.9233 - loss: 0.1996 - val_accuracy: 0.9220 - val_loss: 0.1831\n",
            "Epoch 17/100\n",
            "\u001b[1m1600/1600\u001b[0m \u001b[32m━━━━━━━━━━━━━━━━━━━━\u001b[0m\u001b[37m\u001b[0m \u001b[1m5s\u001b[0m 2ms/step - accuracy: 0.9237 - loss: 0.1976 - val_accuracy: 0.9225 - val_loss: 0.1821\n",
            "Epoch 18/100\n",
            "\u001b[1m1600/1600\u001b[0m \u001b[32m━━━━━━━━━━━━━━━━━━━━\u001b[0m\u001b[37m\u001b[0m \u001b[1m5s\u001b[0m 2ms/step - accuracy: 0.9253 - loss: 0.1957 - val_accuracy: 0.9220 - val_loss: 0.1812\n",
            "Epoch 19/100\n",
            "\u001b[1m1600/1600\u001b[0m \u001b[32m━━━━━━━━━━━━━━━━━━━━\u001b[0m\u001b[37m\u001b[0m \u001b[1m5s\u001b[0m 2ms/step - accuracy: 0.9260 - loss: 0.1938 - val_accuracy: 0.9205 - val_loss: 0.1804\n",
            "Epoch 20/100\n",
            "\u001b[1m1600/1600\u001b[0m \u001b[32m━━━━━━━━━━━━━━━━━━━━\u001b[0m\u001b[37m\u001b[0m \u001b[1m3s\u001b[0m 2ms/step - accuracy: 0.9269 - loss: 0.1919 - val_accuracy: 0.9210 - val_loss: 0.1797\n",
            "Epoch 21/100\n",
            "\u001b[1m1600/1600\u001b[0m \u001b[32m━━━━━━━━━━━━━━━━━━━━\u001b[0m\u001b[37m\u001b[0m \u001b[1m5s\u001b[0m 2ms/step - accuracy: 0.9268 - loss: 0.1901 - val_accuracy: 0.9225 - val_loss: 0.1793\n",
            "Epoch 22/100\n",
            "\u001b[1m1600/1600\u001b[0m \u001b[32m━━━━━━━━━━━━━━━━━━━━\u001b[0m\u001b[37m\u001b[0m \u001b[1m3s\u001b[0m 2ms/step - accuracy: 0.9285 - loss: 0.1886 - val_accuracy: 0.9225 - val_loss: 0.1789\n",
            "Epoch 23/100\n",
            "\u001b[1m1600/1600\u001b[0m \u001b[32m━━━━━━━━━━━━━━━━━━━━\u001b[0m\u001b[37m\u001b[0m \u001b[1m6s\u001b[0m 3ms/step - accuracy: 0.9290 - loss: 0.1874 - val_accuracy: 0.9225 - val_loss: 0.1784\n",
            "Epoch 24/100\n",
            "\u001b[1m1600/1600\u001b[0m \u001b[32m━━━━━━━━━━━━━━━━━━━━\u001b[0m\u001b[37m\u001b[0m \u001b[1m6s\u001b[0m 4ms/step - accuracy: 0.9286 - loss: 0.1863 - val_accuracy: 0.9225 - val_loss: 0.1778\n",
            "Epoch 25/100\n",
            "\u001b[1m1600/1600\u001b[0m \u001b[32m━━━━━━━━━━━━━━━━━━━━\u001b[0m\u001b[37m\u001b[0m \u001b[1m4s\u001b[0m 3ms/step - accuracy: 0.9300 - loss: 0.1853 - val_accuracy: 0.9225 - val_loss: 0.1772\n",
            "Epoch 26/100\n",
            "\u001b[1m1600/1600\u001b[0m \u001b[32m━━━━━━━━━━━━━━━━━━━━\u001b[0m\u001b[37m\u001b[0m \u001b[1m4s\u001b[0m 2ms/step - accuracy: 0.9309 - loss: 0.1843 - val_accuracy: 0.9240 - val_loss: 0.1766\n",
            "Epoch 27/100\n",
            "\u001b[1m1600/1600\u001b[0m \u001b[32m━━━━━━━━━━━━━━━━━━━━\u001b[0m\u001b[37m\u001b[0m \u001b[1m3s\u001b[0m 2ms/step - accuracy: 0.9304 - loss: 0.1834 - val_accuracy: 0.9230 - val_loss: 0.1761\n",
            "Epoch 28/100\n",
            "\u001b[1m1600/1600\u001b[0m \u001b[32m━━━━━━━━━━━━━━━━━━━━\u001b[0m\u001b[37m\u001b[0m \u001b[1m5s\u001b[0m 2ms/step - accuracy: 0.9302 - loss: 0.1826 - val_accuracy: 0.9240 - val_loss: 0.1757\n",
            "Epoch 29/100\n",
            "\u001b[1m1600/1600\u001b[0m \u001b[32m━━━━━━━━━━━━━━━━━━━━\u001b[0m\u001b[37m\u001b[0m \u001b[1m4s\u001b[0m 2ms/step - accuracy: 0.9304 - loss: 0.1819 - val_accuracy: 0.9230 - val_loss: 0.1754\n",
            "Epoch 30/100\n",
            "\u001b[1m1600/1600\u001b[0m \u001b[32m━━━━━━━━━━━━━━━━━━━━\u001b[0m\u001b[37m\u001b[0m \u001b[1m4s\u001b[0m 2ms/step - accuracy: 0.9310 - loss: 0.1812 - val_accuracy: 0.9230 - val_loss: 0.1751\n",
            "Epoch 31/100\n",
            "\u001b[1m1600/1600\u001b[0m \u001b[32m━━━━━━━━━━━━━━━━━━━━\u001b[0m\u001b[37m\u001b[0m \u001b[1m5s\u001b[0m 2ms/step - accuracy: 0.9316 - loss: 0.1805 - val_accuracy: 0.9240 - val_loss: 0.1748\n",
            "Epoch 32/100\n",
            "\u001b[1m1600/1600\u001b[0m \u001b[32m━━━━━━━━━━━━━━━━━━━━\u001b[0m\u001b[37m\u001b[0m \u001b[1m4s\u001b[0m 2ms/step - accuracy: 0.9317 - loss: 0.1799 - val_accuracy: 0.9230 - val_loss: 0.1746\n",
            "Epoch 33/100\n",
            "\u001b[1m1600/1600\u001b[0m \u001b[32m━━━━━━━━━━━━━━━━━━━━\u001b[0m\u001b[37m\u001b[0m \u001b[1m4s\u001b[0m 2ms/step - accuracy: 0.9324 - loss: 0.1793 - val_accuracy: 0.9230 - val_loss: 0.1744\n",
            "Epoch 34/100\n",
            "\u001b[1m1600/1600\u001b[0m \u001b[32m━━━━━━━━━━━━━━━━━━━━\u001b[0m\u001b[37m\u001b[0m \u001b[1m5s\u001b[0m 2ms/step - accuracy: 0.9324 - loss: 0.1788 - val_accuracy: 0.9235 - val_loss: 0.1743\n",
            "Epoch 35/100\n",
            "\u001b[1m1600/1600\u001b[0m \u001b[32m━━━━━━━━━━━━━━━━━━━━\u001b[0m\u001b[37m\u001b[0m \u001b[1m5s\u001b[0m 2ms/step - accuracy: 0.9325 - loss: 0.1783 - val_accuracy: 0.9230 - val_loss: 0.1742\n",
            "Epoch 36/100\n",
            "\u001b[1m1600/1600\u001b[0m \u001b[32m━━━━━━━━━━━━━━━━━━━━\u001b[0m\u001b[37m\u001b[0m \u001b[1m3s\u001b[0m 2ms/step - accuracy: 0.9331 - loss: 0.1778 - val_accuracy: 0.9230 - val_loss: 0.1741\n",
            "Epoch 37/100\n",
            "\u001b[1m1600/1600\u001b[0m \u001b[32m━━━━━━━━━━━━━━━━━━━━\u001b[0m\u001b[37m\u001b[0m \u001b[1m3s\u001b[0m 2ms/step - accuracy: 0.9333 - loss: 0.1773 - val_accuracy: 0.9230 - val_loss: 0.1740\n",
            "Epoch 38/100\n",
            "\u001b[1m1600/1600\u001b[0m \u001b[32m━━━━━━━━━━━━━━━━━━━━\u001b[0m\u001b[37m\u001b[0m \u001b[1m5s\u001b[0m 2ms/step - accuracy: 0.9335 - loss: 0.1769 - val_accuracy: 0.9230 - val_loss: 0.1739\n",
            "Epoch 39/100\n",
            "\u001b[1m1600/1600\u001b[0m \u001b[32m━━━━━━━━━━━━━━━━━━━━\u001b[0m\u001b[37m\u001b[0m \u001b[1m4s\u001b[0m 2ms/step - accuracy: 0.9335 - loss: 0.1765 - val_accuracy: 0.9230 - val_loss: 0.1738\n",
            "Epoch 40/100\n",
            "\u001b[1m1600/1600\u001b[0m \u001b[32m━━━━━━━━━━━━━━━━━━━━\u001b[0m\u001b[37m\u001b[0m \u001b[1m3s\u001b[0m 2ms/step - accuracy: 0.9342 - loss: 0.1761 - val_accuracy: 0.9235 - val_loss: 0.1737\n",
            "Epoch 41/100\n",
            "\u001b[1m1600/1600\u001b[0m \u001b[32m━━━━━━━━━━━━━━━━━━━━\u001b[0m\u001b[37m\u001b[0m \u001b[1m5s\u001b[0m 2ms/step - accuracy: 0.9343 - loss: 0.1757 - val_accuracy: 0.9230 - val_loss: 0.1736\n",
            "Epoch 42/100\n",
            "\u001b[1m1600/1600\u001b[0m \u001b[32m━━━━━━━━━━━━━━━━━━━━\u001b[0m\u001b[37m\u001b[0m \u001b[1m5s\u001b[0m 2ms/step - accuracy: 0.9340 - loss: 0.1753 - val_accuracy: 0.9235 - val_loss: 0.1735\n",
            "Epoch 43/100\n",
            "\u001b[1m1600/1600\u001b[0m \u001b[32m━━━━━━━━━━━━━━━━━━━━\u001b[0m\u001b[37m\u001b[0m \u001b[1m6s\u001b[0m 2ms/step - accuracy: 0.9341 - loss: 0.1750 - val_accuracy: 0.9235 - val_loss: 0.1734\n",
            "Epoch 44/100\n",
            "\u001b[1m1600/1600\u001b[0m \u001b[32m━━━━━━━━━━━━━━━━━━━━\u001b[0m\u001b[37m\u001b[0m \u001b[1m5s\u001b[0m 2ms/step - accuracy: 0.9343 - loss: 0.1746 - val_accuracy: 0.9240 - val_loss: 0.1732\n",
            "Epoch 45/100\n",
            "\u001b[1m1600/1600\u001b[0m \u001b[32m━━━━━━━━━━━━━━━━━━━━\u001b[0m\u001b[37m\u001b[0m \u001b[1m3s\u001b[0m 2ms/step - accuracy: 0.9342 - loss: 0.1743 - val_accuracy: 0.9240 - val_loss: 0.1731\n",
            "Epoch 46/100\n",
            "\u001b[1m1600/1600\u001b[0m \u001b[32m━━━━━━━━━━━━━━━━━━━━\u001b[0m\u001b[37m\u001b[0m \u001b[1m5s\u001b[0m 3ms/step - accuracy: 0.9346 - loss: 0.1740 - val_accuracy: 0.9240 - val_loss: 0.1729\n",
            "Epoch 47/100\n",
            "\u001b[1m1600/1600\u001b[0m \u001b[32m━━━━━━━━━━━━━━━━━━━━\u001b[0m\u001b[37m\u001b[0m \u001b[1m3s\u001b[0m 2ms/step - accuracy: 0.9357 - loss: 0.1737 - val_accuracy: 0.9245 - val_loss: 0.1727\n",
            "Epoch 48/100\n",
            "\u001b[1m1600/1600\u001b[0m \u001b[32m━━━━━━━━━━━━━━━━━━━━\u001b[0m\u001b[37m\u001b[0m \u001b[1m5s\u001b[0m 2ms/step - accuracy: 0.9352 - loss: 0.1734 - val_accuracy: 0.9250 - val_loss: 0.1725\n",
            "Epoch 49/100\n",
            "\u001b[1m1600/1600\u001b[0m \u001b[32m━━━━━━━━━━━━━━━━━━━━\u001b[0m\u001b[37m\u001b[0m \u001b[1m5s\u001b[0m 2ms/step - accuracy: 0.9354 - loss: 0.1731 - val_accuracy: 0.9240 - val_loss: 0.1723\n",
            "Epoch 50/100\n",
            "\u001b[1m1600/1600\u001b[0m \u001b[32m━━━━━━━━━━━━━━━━━━━━\u001b[0m\u001b[37m\u001b[0m \u001b[1m5s\u001b[0m 2ms/step - accuracy: 0.9354 - loss: 0.1729 - val_accuracy: 0.9240 - val_loss: 0.1721\n",
            "Epoch 51/100\n",
            "\u001b[1m1600/1600\u001b[0m \u001b[32m━━━━━━━━━━━━━━━━━━━━\u001b[0m\u001b[37m\u001b[0m \u001b[1m3s\u001b[0m 2ms/step - accuracy: 0.9362 - loss: 0.1726 - val_accuracy: 0.9245 - val_loss: 0.1719\n",
            "Epoch 52/100\n",
            "\u001b[1m1600/1600\u001b[0m \u001b[32m━━━━━━━━━━━━━━━━━━━━\u001b[0m\u001b[37m\u001b[0m \u001b[1m5s\u001b[0m 2ms/step - accuracy: 0.9367 - loss: 0.1723 - val_accuracy: 0.9245 - val_loss: 0.1716\n",
            "Epoch 53/100\n",
            "\u001b[1m1600/1600\u001b[0m \u001b[32m━━━━━━━━━━━━━━━━━━━━\u001b[0m\u001b[37m\u001b[0m \u001b[1m5s\u001b[0m 2ms/step - accuracy: 0.9362 - loss: 0.1721 - val_accuracy: 0.9240 - val_loss: 0.1714\n",
            "Epoch 54/100\n",
            "\u001b[1m1600/1600\u001b[0m \u001b[32m━━━━━━━━━━━━━━━━━━━━\u001b[0m\u001b[37m\u001b[0m \u001b[1m6s\u001b[0m 2ms/step - accuracy: 0.9360 - loss: 0.1718 - val_accuracy: 0.9250 - val_loss: 0.1713\n",
            "Epoch 55/100\n",
            "\u001b[1m1600/1600\u001b[0m \u001b[32m━━━━━━━━━━━━━━━━━━━━\u001b[0m\u001b[37m\u001b[0m \u001b[1m4s\u001b[0m 2ms/step - accuracy: 0.9360 - loss: 0.1716 - val_accuracy: 0.9255 - val_loss: 0.1711\n",
            "Epoch 56/100\n",
            "\u001b[1m1600/1600\u001b[0m \u001b[32m━━━━━━━━━━━━━━━━━━━━\u001b[0m\u001b[37m\u001b[0m \u001b[1m6s\u001b[0m 2ms/step - accuracy: 0.9361 - loss: 0.1713 - val_accuracy: 0.9255 - val_loss: 0.1710\n",
            "Epoch 57/100\n",
            "\u001b[1m1600/1600\u001b[0m \u001b[32m━━━━━━━━━━━━━━━━━━━━\u001b[0m\u001b[37m\u001b[0m \u001b[1m4s\u001b[0m 2ms/step - accuracy: 0.9358 - loss: 0.1711 - val_accuracy: 0.9245 - val_loss: 0.1710\n",
            "Epoch 58/100\n",
            "\u001b[1m1600/1600\u001b[0m \u001b[32m━━━━━━━━━━━━━━━━━━━━\u001b[0m\u001b[37m\u001b[0m \u001b[1m5s\u001b[0m 2ms/step - accuracy: 0.9357 - loss: 0.1708 - val_accuracy: 0.9240 - val_loss: 0.1710\n",
            "Epoch 59/100\n",
            "\u001b[1m1600/1600\u001b[0m \u001b[32m━━━━━━━━━━━━━━━━━━━━\u001b[0m\u001b[37m\u001b[0m \u001b[1m4s\u001b[0m 2ms/step - accuracy: 0.9358 - loss: 0.1706 - val_accuracy: 0.9240 - val_loss: 0.1710\n",
            "Epoch 60/100\n",
            "\u001b[1m1600/1600\u001b[0m \u001b[32m━━━━━━━━━━━━━━━━━━━━\u001b[0m\u001b[37m\u001b[0m \u001b[1m4s\u001b[0m 2ms/step - accuracy: 0.9362 - loss: 0.1703 - val_accuracy: 0.9230 - val_loss: 0.1710\n",
            "Epoch 61/100\n",
            "\u001b[1m1600/1600\u001b[0m \u001b[32m━━━━━━━━━━━━━━━━━━━━\u001b[0m\u001b[37m\u001b[0m \u001b[1m3s\u001b[0m 2ms/step - accuracy: 0.9364 - loss: 0.1700 - val_accuracy: 0.9235 - val_loss: 0.1710\n",
            "Epoch 62/100\n",
            "\u001b[1m1600/1600\u001b[0m \u001b[32m━━━━━━━━━━━━━━━━━━━━\u001b[0m\u001b[37m\u001b[0m \u001b[1m6s\u001b[0m 2ms/step - accuracy: 0.9364 - loss: 0.1697 - val_accuracy: 0.9230 - val_loss: 0.1710\n",
            "Epoch 63/100\n",
            "\u001b[1m1600/1600\u001b[0m \u001b[32m━━━━━━━━━━━━━━━━━━━━\u001b[0m\u001b[37m\u001b[0m \u001b[1m3s\u001b[0m 2ms/step - accuracy: 0.9361 - loss: 0.1694 - val_accuracy: 0.9220 - val_loss: 0.1709\n",
            "Epoch 64/100\n",
            "\u001b[1m1600/1600\u001b[0m \u001b[32m━━━━━━━━━━━━━━━━━━━━\u001b[0m\u001b[37m\u001b[0m \u001b[1m5s\u001b[0m 2ms/step - accuracy: 0.9360 - loss: 0.1691 - val_accuracy: 0.9220 - val_loss: 0.1709\n",
            "Epoch 65/100\n",
            "\u001b[1m1600/1600\u001b[0m \u001b[32m━━━━━━━━━━━━━━━━━━━━\u001b[0m\u001b[37m\u001b[0m \u001b[1m6s\u001b[0m 2ms/step - accuracy: 0.9365 - loss: 0.1687 - val_accuracy: 0.9220 - val_loss: 0.1708\n",
            "Epoch 66/100\n",
            "\u001b[1m1600/1600\u001b[0m \u001b[32m━━━━━━━━━━━━━━━━━━━━\u001b[0m\u001b[37m\u001b[0m \u001b[1m3s\u001b[0m 2ms/step - accuracy: 0.9358 - loss: 0.1683 - val_accuracy: 0.9230 - val_loss: 0.1707\n",
            "Epoch 67/100\n",
            "\u001b[1m1600/1600\u001b[0m \u001b[32m━━━━━━━━━━━━━━━━━━━━\u001b[0m\u001b[37m\u001b[0m \u001b[1m5s\u001b[0m 2ms/step - accuracy: 0.9369 - loss: 0.1679 - val_accuracy: 0.9235 - val_loss: 0.1706\n",
            "Epoch 68/100\n",
            "\u001b[1m1600/1600\u001b[0m \u001b[32m━━━━━━━━━━━━━━━━━━━━\u001b[0m\u001b[37m\u001b[0m \u001b[1m4s\u001b[0m 2ms/step - accuracy: 0.9359 - loss: 0.1675 - val_accuracy: 0.9225 - val_loss: 0.1704\n",
            "Epoch 69/100\n",
            "\u001b[1m1600/1600\u001b[0m \u001b[32m━━━━━━━━━━━━━━━━━━━━\u001b[0m\u001b[37m\u001b[0m \u001b[1m4s\u001b[0m 2ms/step - accuracy: 0.9357 - loss: 0.1671 - val_accuracy: 0.9240 - val_loss: 0.1701\n",
            "Epoch 70/100\n",
            "\u001b[1m1600/1600\u001b[0m \u001b[32m━━━━━━━━━━━━━━━━━━━━\u001b[0m\u001b[37m\u001b[0m \u001b[1m5s\u001b[0m 2ms/step - accuracy: 0.9357 - loss: 0.1667 - val_accuracy: 0.9245 - val_loss: 0.1697\n",
            "Epoch 71/100\n",
            "\u001b[1m1600/1600\u001b[0m \u001b[32m━━━━━━━━━━━━━━━━━━━━\u001b[0m\u001b[37m\u001b[0m \u001b[1m5s\u001b[0m 2ms/step - accuracy: 0.9359 - loss: 0.1663 - val_accuracy: 0.9240 - val_loss: 0.1692\n",
            "Epoch 72/100\n",
            "\u001b[1m1600/1600\u001b[0m \u001b[32m━━━━━━━━━━━━━━━━━━━━\u001b[0m\u001b[37m\u001b[0m \u001b[1m3s\u001b[0m 2ms/step - accuracy: 0.9366 - loss: 0.1659 - val_accuracy: 0.9235 - val_loss: 0.1686\n",
            "Epoch 73/100\n",
            "\u001b[1m1600/1600\u001b[0m \u001b[32m━━━━━━━━━━━━━━━━━━━━\u001b[0m\u001b[37m\u001b[0m \u001b[1m3s\u001b[0m 2ms/step - accuracy: 0.9378 - loss: 0.1655 - val_accuracy: 0.9235 - val_loss: 0.1681\n",
            "Epoch 74/100\n",
            "\u001b[1m1600/1600\u001b[0m \u001b[32m━━━━━━━━━━━━━━━━━━━━\u001b[0m\u001b[37m\u001b[0m \u001b[1m4s\u001b[0m 2ms/step - accuracy: 0.9375 - loss: 0.1650 - val_accuracy: 0.9230 - val_loss: 0.1676\n",
            "Epoch 75/100\n",
            "\u001b[1m1600/1600\u001b[0m \u001b[32m━━━━━━━━━━━━━━━━━━━━\u001b[0m\u001b[37m\u001b[0m \u001b[1m3s\u001b[0m 2ms/step - accuracy: 0.9376 - loss: 0.1647 - val_accuracy: 0.9240 - val_loss: 0.1672\n",
            "Epoch 76/100\n",
            "\u001b[1m1600/1600\u001b[0m \u001b[32m━━━━━━━━━━━━━━━━━━━━\u001b[0m\u001b[37m\u001b[0m \u001b[1m5s\u001b[0m 2ms/step - accuracy: 0.9383 - loss: 0.1643 - val_accuracy: 0.9250 - val_loss: 0.1669\n",
            "Epoch 77/100\n",
            "\u001b[1m1600/1600\u001b[0m \u001b[32m━━━━━━━━━━━━━━━━━━━━\u001b[0m\u001b[37m\u001b[0m \u001b[1m3s\u001b[0m 2ms/step - accuracy: 0.9382 - loss: 0.1639 - val_accuracy: 0.9255 - val_loss: 0.1666\n",
            "Epoch 78/100\n",
            "\u001b[1m1600/1600\u001b[0m \u001b[32m━━━━━━━━━━━━━━━━━━━━\u001b[0m\u001b[37m\u001b[0m \u001b[1m3s\u001b[0m 2ms/step - accuracy: 0.9383 - loss: 0.1636 - val_accuracy: 0.9255 - val_loss: 0.1663\n",
            "Epoch 79/100\n",
            "\u001b[1m1600/1600\u001b[0m \u001b[32m━━━━━━━━━━━━━━━━━━━━\u001b[0m\u001b[37m\u001b[0m \u001b[1m3s\u001b[0m 2ms/step - accuracy: 0.9388 - loss: 0.1632 - val_accuracy: 0.9275 - val_loss: 0.1661\n",
            "Epoch 80/100\n",
            "\u001b[1m1600/1600\u001b[0m \u001b[32m━━━━━━━━━━━━━━━━━━━━\u001b[0m\u001b[37m\u001b[0m \u001b[1m5s\u001b[0m 2ms/step - accuracy: 0.9390 - loss: 0.1629 - val_accuracy: 0.9275 - val_loss: 0.1659\n",
            "Epoch 81/100\n",
            "\u001b[1m1600/1600\u001b[0m \u001b[32m━━━━━━━━━━━━━━━━━━━━\u001b[0m\u001b[37m\u001b[0m \u001b[1m5s\u001b[0m 2ms/step - accuracy: 0.9390 - loss: 0.1626 - val_accuracy: 0.9270 - val_loss: 0.1658\n",
            "Epoch 82/100\n",
            "\u001b[1m1600/1600\u001b[0m \u001b[32m━━━━━━━━━━━━━━━━━━━━\u001b[0m\u001b[37m\u001b[0m \u001b[1m5s\u001b[0m 2ms/step - accuracy: 0.9395 - loss: 0.1622 - val_accuracy: 0.9275 - val_loss: 0.1656\n",
            "Epoch 83/100\n",
            "\u001b[1m1600/1600\u001b[0m \u001b[32m━━━━━━━━━━━━━━━━━━━━\u001b[0m\u001b[37m\u001b[0m \u001b[1m4s\u001b[0m 2ms/step - accuracy: 0.9397 - loss: 0.1619 - val_accuracy: 0.9275 - val_loss: 0.1654\n",
            "Epoch 84/100\n",
            "\u001b[1m1600/1600\u001b[0m \u001b[32m━━━━━━━━━━━━━━━━━━━━\u001b[0m\u001b[37m\u001b[0m \u001b[1m3s\u001b[0m 2ms/step - accuracy: 0.9402 - loss: 0.1616 - val_accuracy: 0.9290 - val_loss: 0.1652\n",
            "Epoch 85/100\n",
            "\u001b[1m1600/1600\u001b[0m \u001b[32m━━━━━━━━━━━━━━━━━━━━\u001b[0m\u001b[37m\u001b[0m \u001b[1m3s\u001b[0m 2ms/step - accuracy: 0.9405 - loss: 0.1613 - val_accuracy: 0.9300 - val_loss: 0.1651\n",
            "Epoch 86/100\n",
            "\u001b[1m1600/1600\u001b[0m \u001b[32m━━━━━━━━━━━━━━━━━━━━\u001b[0m\u001b[37m\u001b[0m \u001b[1m3s\u001b[0m 2ms/step - accuracy: 0.9405 - loss: 0.1610 - val_accuracy: 0.9300 - val_loss: 0.1649\n",
            "Epoch 87/100\n",
            "\u001b[1m1600/1600\u001b[0m \u001b[32m━━━━━━━━━━━━━━━━━━━━\u001b[0m\u001b[37m\u001b[0m \u001b[1m3s\u001b[0m 2ms/step - accuracy: 0.9406 - loss: 0.1607 - val_accuracy: 0.9300 - val_loss: 0.1648\n",
            "Epoch 88/100\n",
            "\u001b[1m1600/1600\u001b[0m \u001b[32m━━━━━━━━━━━━━━━━━━━━\u001b[0m\u001b[37m\u001b[0m \u001b[1m3s\u001b[0m 2ms/step - accuracy: 0.9402 - loss: 0.1604 - val_accuracy: 0.9290 - val_loss: 0.1646\n",
            "Epoch 89/100\n",
            "\u001b[1m1600/1600\u001b[0m \u001b[32m━━━━━━━━━━━━━━━━━━━━\u001b[0m\u001b[37m\u001b[0m \u001b[1m3s\u001b[0m 2ms/step - accuracy: 0.9401 - loss: 0.1602 - val_accuracy: 0.9305 - val_loss: 0.1645\n",
            "Epoch 90/100\n",
            "\u001b[1m1600/1600\u001b[0m \u001b[32m━━━━━━━━━━━━━━━━━━━━\u001b[0m\u001b[37m\u001b[0m \u001b[1m5s\u001b[0m 2ms/step - accuracy: 0.9402 - loss: 0.1599 - val_accuracy: 0.9300 - val_loss: 0.1643\n",
            "Epoch 91/100\n",
            "\u001b[1m1600/1600\u001b[0m \u001b[32m━━━━━━━━━━━━━━━━━━━━\u001b[0m\u001b[37m\u001b[0m \u001b[1m5s\u001b[0m 2ms/step - accuracy: 0.9401 - loss: 0.1597 - val_accuracy: 0.9305 - val_loss: 0.1642\n",
            "Epoch 92/100\n",
            "\u001b[1m1600/1600\u001b[0m \u001b[32m━━━━━━━━━━━━━━━━━━━━\u001b[0m\u001b[37m\u001b[0m \u001b[1m3s\u001b[0m 2ms/step - accuracy: 0.9403 - loss: 0.1595 - val_accuracy: 0.9300 - val_loss: 0.1641\n",
            "Epoch 93/100\n",
            "\u001b[1m1600/1600\u001b[0m \u001b[32m━━━━━━━━━━━━━━━━━━━━\u001b[0m\u001b[37m\u001b[0m \u001b[1m3s\u001b[0m 2ms/step - accuracy: 0.9400 - loss: 0.1592 - val_accuracy: 0.9300 - val_loss: 0.1640\n",
            "Epoch 94/100\n",
            "\u001b[1m1600/1600\u001b[0m \u001b[32m━━━━━━━━━━━━━━━━━━━━\u001b[0m\u001b[37m\u001b[0m \u001b[1m5s\u001b[0m 2ms/step - accuracy: 0.9398 - loss: 0.1590 - val_accuracy: 0.9295 - val_loss: 0.1639\n",
            "Epoch 95/100\n",
            "\u001b[1m1600/1600\u001b[0m \u001b[32m━━━━━━━━━━━━━━━━━━━━\u001b[0m\u001b[37m\u001b[0m \u001b[1m3s\u001b[0m 2ms/step - accuracy: 0.9394 - loss: 0.1588 - val_accuracy: 0.9295 - val_loss: 0.1638\n",
            "Epoch 96/100\n",
            "\u001b[1m1600/1600\u001b[0m \u001b[32m━━━━━━━━━━━━━━━━━━━━\u001b[0m\u001b[37m\u001b[0m \u001b[1m5s\u001b[0m 2ms/step - accuracy: 0.9393 - loss: 0.1586 - val_accuracy: 0.9300 - val_loss: 0.1637\n",
            "Epoch 97/100\n",
            "\u001b[1m1600/1600\u001b[0m \u001b[32m━━━━━━━━━━━━━━━━━━━━\u001b[0m\u001b[37m\u001b[0m \u001b[1m3s\u001b[0m 2ms/step - accuracy: 0.9394 - loss: 0.1585 - val_accuracy: 0.9295 - val_loss: 0.1636\n",
            "Epoch 98/100\n",
            "\u001b[1m1600/1600\u001b[0m \u001b[32m━━━━━━━━━━━━━━━━━━━━\u001b[0m\u001b[37m\u001b[0m \u001b[1m3s\u001b[0m 2ms/step - accuracy: 0.9394 - loss: 0.1583 - val_accuracy: 0.9305 - val_loss: 0.1636\n",
            "Epoch 99/100\n",
            "\u001b[1m1600/1600\u001b[0m \u001b[32m━━━━━━━━━━━━━━━━━━━━\u001b[0m\u001b[37m\u001b[0m \u001b[1m5s\u001b[0m 2ms/step - accuracy: 0.9398 - loss: 0.1581 - val_accuracy: 0.9300 - val_loss: 0.1635\n",
            "Epoch 100/100\n",
            "\u001b[1m1600/1600\u001b[0m \u001b[32m━━━━━━━━━━━━━━━━━━━━\u001b[0m\u001b[37m\u001b[0m \u001b[1m4s\u001b[0m 2ms/step - accuracy: 0.9398 - loss: 0.1580 - val_accuracy: 0.9300 - val_loss: 0.1635\n"
          ]
        }
      ]
    },
    {
      "cell_type": "code",
      "source": [
        "import matplotlib.pyplot as plt\n",
        "%matplotlib inline\n",
        "\n",
        "# Plot training & validation accuracy values\n",
        "plt.plot(history.history['accuracy'])\n",
        "plt.plot(history.history['val_accuracy'])\n",
        "plt.title('Model accuracy')\n",
        "plt.ylabel('Accuracy')\n",
        "plt.xlabel('Epoch')\n",
        "plt.legend(['Train', 'Validation'], loc='upper left')\n",
        "plt.show()\n",
        "\n",
        "# Plot training & validation loss values\n",
        "plt.plot(history.history['loss'])\n",
        "plt.plot(history.history['val_loss'])\n",
        "plt.title('Model loss')\n",
        "plt.ylabel('Loss')\n",
        "plt.xlabel('Epoch')\n",
        "plt.legend(['Train', 'Validation'], loc='upper left')\n",
        "plt.show()"
      ],
      "metadata": {
        "colab": {
          "base_uri": "https://localhost:8080/",
          "height": 927
        },
        "id": "R0E9NoJOp7og",
        "outputId": "dbff7e31-9a76-4688-9cc4-571c68631f01"
      },
      "execution_count": 8,
      "outputs": [
        {
          "output_type": "display_data",
          "data": {
            "text/plain": [
              "<Figure size 640x480 with 1 Axes>"
            ],
            "image/png": "[encoded data removed]"
          },
          "metadata": {}
        },
        {
          "output_type": "display_data",
          "data": {
            "text/plain": [
              "<Figure size 640x480 with 1 Axes>"
            ],
            "image/png": "[encoded data removed]"
          },
          "metadata": {}
        }
      ]
    },
    {
      "cell_type": "code",
      "source": [
        "# Use your trained model to predict the output class for the first 10 input data examples\n",
        "y_predicted = model.predict(X.iloc[0:10,:])\n",
        "\n",
        "# print the predicted classes\n",
        "print(\"Predicted probability for each of the examples belonging to class 1: \"),\n",
        "print(y_predicted)\n",
        "print(\"Predicted class label for each of the examples: \"),\n",
        "print(np.round(y_predicted))"
      ],
      "metadata": {
        "colab": {
          "base_uri": "https://localhost:8080/"
        },
        "id": "v5QTu1zeqDik",
        "outputId": "86d4417f-dfe8-487a-9657-e146eb630ace"
      },
      "execution_count": 9,
      "outputs": [
        {
          "output_type": "stream",
          "name": "stdout",
          "text": [
            "\u001b[1m1/1\u001b[0m \u001b[32m━━━━━━━━━━━━━━━━━━━━\u001b[0m\u001b[37m\u001b[0m \u001b[1m0s\u001b[0m 240ms/step\n",
            "Predicted probability for each of the examples belonging to class 1: \n",
            "[[5.1805109e-04]\n",
            " [3.3896998e-01]\n",
            " [1.0343613e-03]\n",
            " [9.7132450e-01]\n",
            " [9.7057950e-01]\n",
            " [2.4448207e-04]\n",
            " [8.1986773e-01]\n",
            " [1.6554837e-03]\n",
            " [1.0956884e-03]\n",
            " [9.9416673e-01]]\n",
            "Predicted class label for each of the examples: \n",
            "[[0.]\n",
            " [0.]\n",
            " [0.]\n",
            " [1.]\n",
            " [1.]\n",
            " [0.]\n",
            " [1.]\n",
            " [0.]\n",
            " [0.]\n",
            " [1.]]\n"
          ]
        }
      ]
    }
  ]
}